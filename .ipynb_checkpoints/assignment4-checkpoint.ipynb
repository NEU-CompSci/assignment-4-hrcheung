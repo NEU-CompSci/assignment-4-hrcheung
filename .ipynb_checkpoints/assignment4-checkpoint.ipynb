{
 "cells": [
  {
   "cell_type": "markdown",
   "metadata": {},
   "source": [
    "# K-Means"
   ]
  },
  {
   "cell_type": "code",
   "execution_count": 155,
   "metadata": {},
   "outputs": [
    {
     "name": "stdout",
     "output_type": "stream",
     "text": [
      "Requirement already satisfied: numpy in /Users/haoranzhang/opt/anaconda3/lib/python3.8/site-packages (1.24.2)\n",
      "Note: you may need to restart the kernel to use updated packages.\n"
     ]
    }
   ],
   "source": [
    "pip install -U numpy"
   ]
  },
  {
   "cell_type": "code",
   "execution_count": 156,
   "metadata": {},
   "outputs": [],
   "source": [
    "import sklearn\n"
   ]
  },
  {
   "cell_type": "code",
   "execution_count": 157,
   "metadata": {},
   "outputs": [],
   "source": [
    "from sklearn.cluster import KMeans"
   ]
  },
  {
   "cell_type": "code",
   "execution_count": 158,
   "metadata": {},
   "outputs": [],
   "source": [
    "import sklearn.cluster as cluster"
   ]
  },
  {
   "cell_type": "code",
   "execution_count": 159,
   "metadata": {},
   "outputs": [],
   "source": [
    "import matplotlib.pyplot as plt\n",
    "import math"
   ]
  },
  {
   "cell_type": "code",
   "execution_count": 160,
   "metadata": {},
   "outputs": [],
   "source": [
    "import pandas as pd"
   ]
  },
  {
   "cell_type": "code",
   "execution_count": 161,
   "metadata": {},
   "outputs": [],
   "source": [
    "import numpy as np"
   ]
  },
  {
   "cell_type": "markdown",
   "metadata": {},
   "source": [
    "### Q1 (a)(b)"
   ]
  },
  {
   "cell_type": "code",
   "execution_count": 162,
   "metadata": {},
   "outputs": [],
   "source": [
    "data = np.loadtxt(\"/Users/haoranzhang/CS6220/assignment-4-hrcheung/data/f150_motor_distributors.txt\",delimiter=\",\")"
   ]
  },
  {
   "cell_type": "code",
   "execution_count": 163,
   "metadata": {},
   "outputs": [
    {
     "data": {
      "text/plain": [
       "array([[-11.96999577,  -8.03962819],\n",
       "       [-26.96141582,  -6.96210943],\n",
       "       [-12.91584891,  -1.37894148],\n",
       "       ...,\n",
       "       [ 12.92550271,  -0.10319682],\n",
       "       [-34.33677838,   4.4057531 ],\n",
       "       [-26.81273855,  -1.63995599]])"
      ]
     },
     "execution_count": 163,
     "metadata": {},
     "output_type": "execute_result"
    }
   ],
   "source": [
    "data"
   ]
  },
  {
   "cell_type": "code",
   "execution_count": 164,
   "metadata": {},
   "outputs": [
    {
     "data": {
      "text/plain": [
       "(5000, 2)"
      ]
     },
     "execution_count": 164,
     "metadata": {},
     "output_type": "execute_result"
    }
   ],
   "source": [
    "data.shape"
   ]
  },
  {
   "cell_type": "code",
   "execution_count": 165,
   "metadata": {},
   "outputs": [],
   "source": [
    "#initialization vectors are:\n",
    "initialization=np.array([[10,10],[-10,-10],[2,2],[3,3],[-3,-3]])"
   ]
  },
  {
   "cell_type": "code",
   "execution_count": 166,
   "metadata": {},
   "outputs": [
    {
     "data": {
      "text/plain": [
       "numpy.ndarray"
      ]
     },
     "execution_count": 166,
     "metadata": {},
     "output_type": "execute_result"
    }
   ],
   "source": [
    "type(initialization)"
   ]
  },
  {
   "cell_type": "code",
   "execution_count": 167,
   "metadata": {},
   "outputs": [
    {
     "data": {
      "text/plain": [
       "(5, 2)"
      ]
     },
     "execution_count": 167,
     "metadata": {},
     "output_type": "execute_result"
    }
   ],
   "source": [
    "initialization.shape"
   ]
  },
  {
   "cell_type": "code",
   "execution_count": 168,
   "metadata": {},
   "outputs": [],
   "source": [
    "kmeans=cluster.KMeans(n_clusters=5,init=initialization,max_iter=100)"
   ]
  },
  {
   "cell_type": "code",
   "execution_count": 169,
   "metadata": {},
   "outputs": [
    {
     "name": "stderr",
     "output_type": "stream",
     "text": [
      "/Users/haoranzhang/opt/anaconda3/lib/python3.8/site-packages/sklearn/cluster/_kmeans.py:870: FutureWarning: The default value of `n_init` will change from 10 to 'auto' in 1.4. Set the value of `n_init` explicitly to suppress the warning\n",
      "  warnings.warn(\n",
      "/Users/haoranzhang/opt/anaconda3/lib/python3.8/site-packages/sklearn/cluster/_kmeans.py:1362: RuntimeWarning: Explicit initial center position passed: performing only one init in KMeans instead of n_init=10.\n",
      "  super()._check_params_vs_input(X, default_n_init=10)\n"
     ]
    }
   ],
   "source": [
    "label=kmeans.fit_predict(data)"
   ]
  },
  {
   "cell_type": "code",
   "execution_count": 170,
   "metadata": {},
   "outputs": [
    {
     "data": {
      "text/plain": [
       "array([4, 1, 4, ..., 3, 1, 1], dtype=int32)"
      ]
     },
     "execution_count": 170,
     "metadata": {},
     "output_type": "execute_result"
    }
   ],
   "source": [
    "label"
   ]
  },
  {
   "cell_type": "code",
   "execution_count": 171,
   "metadata": {},
   "outputs": [
    {
     "data": {
      "text/plain": [
       "array([[ 27.3664243 ,  -1.09580993],\n",
       "       [-31.94805334,   2.59901959],\n",
       "       [ -1.04061308,  -2.28300242],\n",
       "       [ 11.68619774,  -1.68891573],\n",
       "       [-14.50973012,  -0.54232205]])"
      ]
     },
     "execution_count": 171,
     "metadata": {},
     "output_type": "execute_result"
    }
   ],
   "source": [
    "centroids = kmeans.cluster_centers_\n",
    "centroids"
   ]
  },
  {
   "cell_type": "code",
   "execution_count": 172,
   "metadata": {},
   "outputs": [
    {
     "data": {
      "image/png": "[encoded data removed]",
      "text/plain": [
       "<Figure size 432x288 with 1 Axes>"
      ]
     },
     "metadata": {
      "needs_background": "light"
     },
     "output_type": "display_data"
    }
   ],
   "source": [
    "u_labels=np.unique(label) #allocat label to different clusters\n",
    "for i in u_labels:\n",
    "    plt.scatter(data[label==i,0],data[label==i,1],label=i)\n",
    "plt.scatter(centroids[:,0] , centroids[:,1] , s = 80, color = 'k')\n",
    "plt.legend()\n",
    "plt.show()"
   ]
  },
  {
   "cell_type": "markdown",
   "metadata": {},
   "source": [
    "### Q1(c)"
   ]
  },
  {
   "cell_type": "markdown",
   "metadata": {},
   "source": [
    "Based on the cluster figure above, the cluster result does not look good.\n",
    "\n",
    "I am suspecting the initialization vectors and centroids are incorrect. They are all on the line of y=x, which disturbed the accurate clustering process. \n",
    "\n",
    "Based on the picture, a better intialization would be y=c, where c in the constant, since apparently points can be clustered as blocks layered parallel to the x axis. "
   ]
  },
  {
   "cell_type": "code",
   "execution_count": 173,
   "metadata": {},
   "outputs": [
    {
     "name": "stderr",
     "output_type": "stream",
     "text": [
      "/Users/haoranzhang/opt/anaconda3/lib/python3.8/site-packages/sklearn/cluster/_kmeans.py:870: FutureWarning: The default value of `n_init` will change from 10 to 'auto' in 1.4. Set the value of `n_init` explicitly to suppress the warning\n",
      "  warnings.warn(\n",
      "/Users/haoranzhang/opt/anaconda3/lib/python3.8/site-packages/sklearn/cluster/_kmeans.py:870: FutureWarning: The default value of `n_init` will change from 10 to 'auto' in 1.4. Set the value of `n_init` explicitly to suppress the warning\n",
      "  warnings.warn(\n",
      "/Users/haoranzhang/opt/anaconda3/lib/python3.8/site-packages/sklearn/cluster/_kmeans.py:870: FutureWarning: The default value of `n_init` will change from 10 to 'auto' in 1.4. Set the value of `n_init` explicitly to suppress the warning\n",
      "  warnings.warn(\n",
      "/Users/haoranzhang/opt/anaconda3/lib/python3.8/site-packages/sklearn/cluster/_kmeans.py:870: FutureWarning: The default value of `n_init` will change from 10 to 'auto' in 1.4. Set the value of `n_init` explicitly to suppress the warning\n",
      "  warnings.warn(\n",
      "/Users/haoranzhang/opt/anaconda3/lib/python3.8/site-packages/sklearn/cluster/_kmeans.py:870: FutureWarning: The default value of `n_init` will change from 10 to 'auto' in 1.4. Set the value of `n_init` explicitly to suppress the warning\n",
      "  warnings.warn(\n",
      "/Users/haoranzhang/opt/anaconda3/lib/python3.8/site-packages/sklearn/cluster/_kmeans.py:870: FutureWarning: The default value of `n_init` will change from 10 to 'auto' in 1.4. Set the value of `n_init` explicitly to suppress the warning\n",
      "  warnings.warn(\n",
      "/Users/haoranzhang/opt/anaconda3/lib/python3.8/site-packages/sklearn/cluster/_kmeans.py:870: FutureWarning: The default value of `n_init` will change from 10 to 'auto' in 1.4. Set the value of `n_init` explicitly to suppress the warning\n",
      "  warnings.warn(\n",
      "/Users/haoranzhang/opt/anaconda3/lib/python3.8/site-packages/sklearn/cluster/_kmeans.py:870: FutureWarning: The default value of `n_init` will change from 10 to 'auto' in 1.4. Set the value of `n_init` explicitly to suppress the warning\n",
      "  warnings.warn(\n",
      "/Users/haoranzhang/opt/anaconda3/lib/python3.8/site-packages/sklearn/cluster/_kmeans.py:870: FutureWarning: The default value of `n_init` will change from 10 to 'auto' in 1.4. Set the value of `n_init` explicitly to suppress the warning\n",
      "  warnings.warn(\n"
     ]
    },
    {
     "data": {
      "image/png": "[encoded data removed]",
      "text/plain": [
       "<Figure size 1152x576 with 1 Axes>"
      ]
     },
     "metadata": {
      "needs_background": "light"
     },
     "output_type": "display_data"
    }
   ],
   "source": [
    "cost = []\n",
    "K = range(1,10)\n",
    "for k in K:\n",
    "    kmeanModel = cluster.KMeans(n_clusters=k)\n",
    "    kmeanModel.fit(data)\n",
    "    cost.append(kmeanModel.inertia_) #sum of distances to cluster center\n",
    "\n",
    "plt.figure(figsize=(16,8))\n",
    "plt.plot(K, cost, 'bx-')\n",
    "plt.xlabel('K number of clusters')\n",
    "plt.ylabel('Cost')\n",
    "plt.title('Elbow method')\n",
    "plt.show()"
   ]
  },
  {
   "cell_type": "markdown",
   "metadata": {},
   "source": [
    "k=3 is a relatively good choice from the perspective of cost, according to Elbow method. "
   ]
  },
  {
   "cell_type": "markdown",
   "metadata": {},
   "source": [
    "## Q1 a) b) write k-means by hand"
   ]
  },
  {
   "cell_type": "code",
   "execution_count": 174,
   "metadata": {},
   "outputs": [
    {
     "data": {
      "text/html": [
       "<div>\n",
       "<style scoped>\n",
       "    .dataframe tbody tr th:only-of-type {\n",
       "        vertical-align: middle;\n",
       "    }\n",
       "\n",
       "    .dataframe tbody tr th {\n",
       "        vertical-align: top;\n",
       "    }\n",
       "\n",
       "    .dataframe thead th {\n",
       "        text-align: right;\n",
       "    }\n",
       "</style>\n",
       "<table border=\"1\" class=\"dataframe\">\n",
       "  <thead>\n",
       "    <tr style=\"text-align: right;\">\n",
       "      <th></th>\n",
       "      <th>x</th>\n",
       "      <th>y</th>\n",
       "    </tr>\n",
       "  </thead>\n",
       "  <tbody>\n",
       "    <tr>\n",
       "      <th>0</th>\n",
       "      <td>-11.969996</td>\n",
       "      <td>-8.039628</td>\n",
       "    </tr>\n",
       "    <tr>\n",
       "      <th>1</th>\n",
       "      <td>-26.961416</td>\n",
       "      <td>-6.962109</td>\n",
       "    </tr>\n",
       "    <tr>\n",
       "      <th>2</th>\n",
       "      <td>-12.915849</td>\n",
       "      <td>-1.378941</td>\n",
       "    </tr>\n",
       "    <tr>\n",
       "      <th>3</th>\n",
       "      <td>22.476144</td>\n",
       "      <td>2.066612</td>\n",
       "    </tr>\n",
       "    <tr>\n",
       "      <th>4</th>\n",
       "      <td>-13.146631</td>\n",
       "      <td>4.835322</td>\n",
       "    </tr>\n",
       "    <tr>\n",
       "      <th>...</th>\n",
       "      <td>...</td>\n",
       "      <td>...</td>\n",
       "    </tr>\n",
       "    <tr>\n",
       "      <th>4995</th>\n",
       "      <td>6.852668</td>\n",
       "      <td>1.549076</td>\n",
       "    </tr>\n",
       "    <tr>\n",
       "      <th>4996</th>\n",
       "      <td>-2.340729</td>\n",
       "      <td>-7.343469</td>\n",
       "    </tr>\n",
       "    <tr>\n",
       "      <th>4997</th>\n",
       "      <td>12.925503</td>\n",
       "      <td>-0.103197</td>\n",
       "    </tr>\n",
       "    <tr>\n",
       "      <th>4998</th>\n",
       "      <td>-34.336778</td>\n",
       "      <td>4.405753</td>\n",
       "    </tr>\n",
       "    <tr>\n",
       "      <th>4999</th>\n",
       "      <td>-26.812739</td>\n",
       "      <td>-1.639956</td>\n",
       "    </tr>\n",
       "  </tbody>\n",
       "</table>\n",
       "<p>5000 rows × 2 columns</p>\n",
       "</div>"
      ],
      "text/plain": [
       "              x         y\n",
       "0    -11.969996 -8.039628\n",
       "1    -26.961416 -6.962109\n",
       "2    -12.915849 -1.378941\n",
       "3     22.476144  2.066612\n",
       "4    -13.146631  4.835322\n",
       "...         ...       ...\n",
       "4995   6.852668  1.549076\n",
       "4996  -2.340729 -7.343469\n",
       "4997  12.925503 -0.103197\n",
       "4998 -34.336778  4.405753\n",
       "4999 -26.812739 -1.639956\n",
       "\n",
       "[5000 rows x 2 columns]"
      ]
     },
     "execution_count": 174,
     "metadata": {},
     "output_type": "execute_result"
    }
   ],
   "source": [
    "df = pd.DataFrame(data, columns = ['x','y'])\n",
    "df"
   ]
  },
  {
   "cell_type": "code",
   "execution_count": 175,
   "metadata": {},
   "outputs": [
    {
     "data": {
      "text/plain": [
       "array([[ 28.09146831,  -1.0241717 ],\n",
       "       [-30.93833893,   2.43436785],\n",
       "       [  0.52511293,  -2.3158082 ],\n",
       "       [ 12.86956124,  -1.68099097],\n",
       "       [-12.88359021,  -0.80312447]])"
      ]
     },
     "execution_count": 175,
     "metadata": {},
     "output_type": "execute_result"
    }
   ],
   "source": [
    "def euclideanDistance(p1,p2):\n",
    "    return math.sqrt(((p1[0]-p2[0])**2)+((p1[1]-p2[1])**2) )\n",
    "\n",
    "def find_closest_centroid(point,centroids):\n",
    "#     for i in range(len(centroids)):\n",
    "#         clusters[i]=list()\n",
    "    minV=float(\"inf\")\n",
    "    label=-1\n",
    "    for i, center in enumerate(centroids):\n",
    "        if euclideanDistance(center,point)<minV:\n",
    "            label=i\n",
    "            minV=euclideanDistance(center,point)\n",
    "    return label\n",
    "\n",
    "#compute new centroid after assign\n",
    "def computeNewCentroid(X):\n",
    "    new=list()\n",
    "    tmp=X.groupby(by='label').mean()\n",
    "    for row in range(len(tmp)):\n",
    "        new.append([tmp.at[row,'x'],tmp.at[row,'y']])\n",
    "    return new\n",
    "    \n",
    "\n",
    "#check if centroids change\n",
    "def centroidsChange(old,new):\n",
    "    if euclideanDistance(old,new)>0.000000000001:\n",
    "        return True\n",
    "    else:\n",
    "        return False\n",
    "\n",
    "def fit(X,initialization,max_iter,n_cluster):\n",
    "    centroids=initialization\n",
    "#     print(\"initial centroids =\",centroids)\n",
    "    \n",
    "    X['label']=X.apply(lambda row: find_closest_centroid((row[0],row[1]),centroids), axis=1)\n",
    "    for i in range(max_iter):\n",
    "        new_centroids=computeNewCentroid(X)\n",
    "#         print(\"new centroids is\",new_centroids)\n",
    "        for i in range(len(centroids)):\n",
    "            if not centroidsChange(centroids[i],new_centroids[i]):\n",
    "                break\n",
    "            else:\n",
    "                centroids=new_centroids\n",
    "                X['label']=X.apply(lambda row: find_closest_centroid((row[0],row[1]),centroids), axis=1)\n",
    "    return centroids\n",
    "\n",
    "initialization=[[10,10],[-10,-10],[2,2],[3,3],[-3,-3]]\n",
    "#         new_centroids=findNewCentroids(centroids)\n",
    "clusters=fit(df,initialization,100,5)\n",
    "clusters=np.asarray(clusters)\n",
    "clusters"
   ]
  },
  {
   "cell_type": "code",
   "execution_count": 176,
   "metadata": {},
   "outputs": [
    {
     "data": {
      "text/html": [
       "<div>\n",
       "<style scoped>\n",
       "    .dataframe tbody tr th:only-of-type {\n",
       "        vertical-align: middle;\n",
       "    }\n",
       "\n",
       "    .dataframe tbody tr th {\n",
       "        vertical-align: top;\n",
       "    }\n",
       "\n",
       "    .dataframe thead th {\n",
       "        text-align: right;\n",
       "    }\n",
       "</style>\n",
       "<table border=\"1\" class=\"dataframe\">\n",
       "  <thead>\n",
       "    <tr style=\"text-align: right;\">\n",
       "      <th></th>\n",
       "      <th>x</th>\n",
       "      <th>y</th>\n",
       "      <th>label</th>\n",
       "    </tr>\n",
       "  </thead>\n",
       "  <tbody>\n",
       "    <tr>\n",
       "      <th>0</th>\n",
       "      <td>-11.969996</td>\n",
       "      <td>-8.039628</td>\n",
       "      <td>4</td>\n",
       "    </tr>\n",
       "    <tr>\n",
       "      <th>1</th>\n",
       "      <td>-26.961416</td>\n",
       "      <td>-6.962109</td>\n",
       "      <td>1</td>\n",
       "    </tr>\n",
       "    <tr>\n",
       "      <th>2</th>\n",
       "      <td>-12.915849</td>\n",
       "      <td>-1.378941</td>\n",
       "      <td>4</td>\n",
       "    </tr>\n",
       "    <tr>\n",
       "      <th>3</th>\n",
       "      <td>22.476144</td>\n",
       "      <td>2.066612</td>\n",
       "      <td>0</td>\n",
       "    </tr>\n",
       "    <tr>\n",
       "      <th>4</th>\n",
       "      <td>-13.146631</td>\n",
       "      <td>4.835322</td>\n",
       "      <td>4</td>\n",
       "    </tr>\n",
       "    <tr>\n",
       "      <th>...</th>\n",
       "      <td>...</td>\n",
       "      <td>...</td>\n",
       "      <td>...</td>\n",
       "    </tr>\n",
       "    <tr>\n",
       "      <th>4995</th>\n",
       "      <td>6.852668</td>\n",
       "      <td>1.549076</td>\n",
       "      <td>3</td>\n",
       "    </tr>\n",
       "    <tr>\n",
       "      <th>4996</th>\n",
       "      <td>-2.340729</td>\n",
       "      <td>-7.343469</td>\n",
       "      <td>2</td>\n",
       "    </tr>\n",
       "    <tr>\n",
       "      <th>4997</th>\n",
       "      <td>12.925503</td>\n",
       "      <td>-0.103197</td>\n",
       "      <td>3</td>\n",
       "    </tr>\n",
       "    <tr>\n",
       "      <th>4998</th>\n",
       "      <td>-34.336778</td>\n",
       "      <td>4.405753</td>\n",
       "      <td>1</td>\n",
       "    </tr>\n",
       "    <tr>\n",
       "      <th>4999</th>\n",
       "      <td>-26.812739</td>\n",
       "      <td>-1.639956</td>\n",
       "      <td>1</td>\n",
       "    </tr>\n",
       "  </tbody>\n",
       "</table>\n",
       "<p>5000 rows × 3 columns</p>\n",
       "</div>"
      ],
      "text/plain": [
       "              x         y  label\n",
       "0    -11.969996 -8.039628      4\n",
       "1    -26.961416 -6.962109      1\n",
       "2    -12.915849 -1.378941      4\n",
       "3     22.476144  2.066612      0\n",
       "4    -13.146631  4.835322      4\n",
       "...         ...       ...    ...\n",
       "4995   6.852668  1.549076      3\n",
       "4996  -2.340729 -7.343469      2\n",
       "4997  12.925503 -0.103197      3\n",
       "4998 -34.336778  4.405753      1\n",
       "4999 -26.812739 -1.639956      1\n",
       "\n",
       "[5000 rows x 3 columns]"
      ]
     },
     "execution_count": 176,
     "metadata": {},
     "output_type": "execute_result"
    }
   ],
   "source": [
    "df"
   ]
  },
  {
   "cell_type": "code",
   "execution_count": 177,
   "metadata": {},
   "outputs": [
    {
     "data": {
      "image/png": "[encoded data removed]",
      "text/plain": [
       "<Figure size 432x288 with 1 Axes>"
      ]
     },
     "metadata": {
      "needs_background": "light"
     },
     "output_type": "display_data"
    }
   ],
   "source": [
    "u_labels=np.unique(df['label']) #allocat label to different clusters\n",
    "for i in u_labels:\n",
    "    plt.scatter(data[label==i,0],data[label==i,1],label=i)\n",
    "plt.scatter(clusters[:,0] , clusters[:,1] , s = 80, color = 'k')\n",
    "plt.legend()\n",
    "plt.show()"
   ]
  },
  {
   "cell_type": "markdown",
   "metadata": {},
   "source": [
    "## Q2"
   ]
  },
  {
   "cell_type": "markdown",
   "metadata": {},
   "source": [
    "### Q2 a)"
   ]
  },
  {
   "cell_type": "code",
   "execution_count": 178,
   "metadata": {},
   "outputs": [],
   "source": [
    "#compute P-1 first\n",
    "P_value=[[10,0.5],[-10,0.25]]\n",
    "P=np.matrix(P_value)\n",
    "R=(P.T @ P).I"
   ]
  },
  {
   "cell_type": "code",
   "execution_count": 179,
   "metadata": {},
   "outputs": [
    {
     "data": {
      "text/plain": [
       "matrix([[ 0.00555556, -0.04444444],\n",
       "        [-0.04444444,  3.55555556]])"
      ]
     },
     "execution_count": 179,
     "metadata": {},
     "output_type": "execute_result"
    }
   ],
   "source": [
    "R"
   ]
  },
  {
   "cell_type": "code",
   "execution_count": 180,
   "metadata": {},
   "outputs": [],
   "source": [
    "def mahalaDistance(x,y):\n",
    "    x=np.asarray(x)\n",
    "    y=np.asarray(y)\n",
    "    return (x-y).T @ R @ (x-y)\n",
    "\n",
    "def find_closest_centroid(point,centroids):\n",
    "#     for i in range(len(centroids)):\n",
    "#         clusters[i]=list()\n",
    "    minV=float(\"inf\")\n",
    "    label=-1\n",
    "    for i, center in enumerate(centroids):\n",
    "        if mahalaDistance(center,point)<minV:\n",
    "            label=i\n",
    "            minV=mahalaDistance(center,point)\n",
    "    return label\n",
    "\n",
    "#compute new centroid after assign\n",
    "def computeNewCentroid(X):\n",
    "    new=list()\n",
    "    tmp=X.groupby(by='label').mean()\n",
    "    for row in range(len(tmp)):\n",
    "        new.append([tmp.at[row,'x'],tmp.at[row,'y']])\n",
    "    return new\n",
    "    \n",
    "\n",
    "#check if centroids change\n",
    "def centroidsChange(old,new):\n",
    "    if mahalaDistance(old,new)>0.000000000001:\n",
    "        return True\n",
    "    else:\n",
    "        return False\n",
    "\n",
    "def fit(X,initialization,max_iter,n_cluster):\n",
    "    centroids=initialization\n",
    "#     print(\"initial centroids =\",centroids)\n",
    "    \n",
    "    X['label']=X.apply(lambda row: find_closest_centroid((row[0],row[1]),centroids), axis=1)\n",
    "    for i in range(max_iter):\n",
    "        new_centroids=computeNewCentroid(X)\n",
    "#         print(\"new centroids is\",new_centroids)\n",
    "        for i in range(len(centroids)):\n",
    "            if not centroidsChange(centroids[i],new_centroids[i]):\n",
    "                break\n",
    "            else:\n",
    "                centroids=new_centroids\n",
    "                X['label']=X.apply(lambda row: find_closest_centroid((row[0],row[1]),centroids), axis=1)\n",
    "    return centroids\n"
   ]
  },
  {
   "cell_type": "code",
   "execution_count": 181,
   "metadata": {},
   "outputs": [],
   "source": [
    "df= pd.DataFrame(data, columns = ['x','y'])"
   ]
  },
  {
   "cell_type": "code",
   "execution_count": 182,
   "metadata": {},
   "outputs": [
    {
     "data": {
      "text/html": [
       "<div>\n",
       "<style scoped>\n",
       "    .dataframe tbody tr th:only-of-type {\n",
       "        vertical-align: middle;\n",
       "    }\n",
       "\n",
       "    .dataframe tbody tr th {\n",
       "        vertical-align: top;\n",
       "    }\n",
       "\n",
       "    .dataframe thead th {\n",
       "        text-align: right;\n",
       "    }\n",
       "</style>\n",
       "<table border=\"1\" class=\"dataframe\">\n",
       "  <thead>\n",
       "    <tr style=\"text-align: right;\">\n",
       "      <th></th>\n",
       "      <th>x</th>\n",
       "      <th>y</th>\n",
       "    </tr>\n",
       "  </thead>\n",
       "  <tbody>\n",
       "    <tr>\n",
       "      <th>0</th>\n",
       "      <td>-11.969996</td>\n",
       "      <td>-8.039628</td>\n",
       "    </tr>\n",
       "    <tr>\n",
       "      <th>1</th>\n",
       "      <td>-26.961416</td>\n",
       "      <td>-6.962109</td>\n",
       "    </tr>\n",
       "    <tr>\n",
       "      <th>2</th>\n",
       "      <td>-12.915849</td>\n",
       "      <td>-1.378941</td>\n",
       "    </tr>\n",
       "    <tr>\n",
       "      <th>3</th>\n",
       "      <td>22.476144</td>\n",
       "      <td>2.066612</td>\n",
       "    </tr>\n",
       "    <tr>\n",
       "      <th>4</th>\n",
       "      <td>-13.146631</td>\n",
       "      <td>4.835322</td>\n",
       "    </tr>\n",
       "    <tr>\n",
       "      <th>...</th>\n",
       "      <td>...</td>\n",
       "      <td>...</td>\n",
       "    </tr>\n",
       "    <tr>\n",
       "      <th>4995</th>\n",
       "      <td>6.852668</td>\n",
       "      <td>1.549076</td>\n",
       "    </tr>\n",
       "    <tr>\n",
       "      <th>4996</th>\n",
       "      <td>-2.340729</td>\n",
       "      <td>-7.343469</td>\n",
       "    </tr>\n",
       "    <tr>\n",
       "      <th>4997</th>\n",
       "      <td>12.925503</td>\n",
       "      <td>-0.103197</td>\n",
       "    </tr>\n",
       "    <tr>\n",
       "      <th>4998</th>\n",
       "      <td>-34.336778</td>\n",
       "      <td>4.405753</td>\n",
       "    </tr>\n",
       "    <tr>\n",
       "      <th>4999</th>\n",
       "      <td>-26.812739</td>\n",
       "      <td>-1.639956</td>\n",
       "    </tr>\n",
       "  </tbody>\n",
       "</table>\n",
       "<p>5000 rows × 2 columns</p>\n",
       "</div>"
      ],
      "text/plain": [
       "              x         y\n",
       "0    -11.969996 -8.039628\n",
       "1    -26.961416 -6.962109\n",
       "2    -12.915849 -1.378941\n",
       "3     22.476144  2.066612\n",
       "4    -13.146631  4.835322\n",
       "...         ...       ...\n",
       "4995   6.852668  1.549076\n",
       "4996  -2.340729 -7.343469\n",
       "4997  12.925503 -0.103197\n",
       "4998 -34.336778  4.405753\n",
       "4999 -26.812739 -1.639956\n",
       "\n",
       "[5000 rows x 2 columns]"
      ]
     },
     "execution_count": 182,
     "metadata": {},
     "output_type": "execute_result"
    }
   ],
   "source": [
    "df"
   ]
  },
  {
   "cell_type": "code",
   "execution_count": 183,
   "metadata": {},
   "outputs": [
    {
     "data": {
      "text/plain": [
       "array([[-20.40310599,   5.00655283],\n",
       "       [ -3.24764066,  -7.01766444],\n",
       "       [ -1.00542627,  -0.97629543],\n",
       "       [  9.96452001,   2.01588007],\n",
       "       [  8.72391858,  -4.00459056]])"
      ]
     },
     "execution_count": 183,
     "metadata": {},
     "output_type": "execute_result"
    }
   ],
   "source": [
    "initialization=[[10,10],[-10,-10],[2,2],[3,3],[-3,-3]]\n",
    "#         new_centroids=findNewCentroids(centroids)\n",
    "clusters=fit(df,initialization,100,5)\n",
    "clusters=np.asarray(clusters)\n",
    "clusters"
   ]
  },
  {
   "cell_type": "code",
   "execution_count": 184,
   "metadata": {},
   "outputs": [
    {
     "data": {
      "text/html": [
       "<div>\n",
       "<style scoped>\n",
       "    .dataframe tbody tr th:only-of-type {\n",
       "        vertical-align: middle;\n",
       "    }\n",
       "\n",
       "    .dataframe tbody tr th {\n",
       "        vertical-align: top;\n",
       "    }\n",
       "\n",
       "    .dataframe thead th {\n",
       "        text-align: right;\n",
       "    }\n",
       "</style>\n",
       "<table border=\"1\" class=\"dataframe\">\n",
       "  <thead>\n",
       "    <tr style=\"text-align: right;\">\n",
       "      <th></th>\n",
       "      <th>x</th>\n",
       "      <th>y</th>\n",
       "      <th>label</th>\n",
       "    </tr>\n",
       "  </thead>\n",
       "  <tbody>\n",
       "    <tr>\n",
       "      <th>0</th>\n",
       "      <td>-11.969996</td>\n",
       "      <td>-8.039628</td>\n",
       "      <td>1</td>\n",
       "    </tr>\n",
       "    <tr>\n",
       "      <th>1</th>\n",
       "      <td>-26.961416</td>\n",
       "      <td>-6.962109</td>\n",
       "      <td>1</td>\n",
       "    </tr>\n",
       "    <tr>\n",
       "      <th>2</th>\n",
       "      <td>-12.915849</td>\n",
       "      <td>-1.378941</td>\n",
       "      <td>2</td>\n",
       "    </tr>\n",
       "    <tr>\n",
       "      <th>3</th>\n",
       "      <td>22.476144</td>\n",
       "      <td>2.066612</td>\n",
       "      <td>3</td>\n",
       "    </tr>\n",
       "    <tr>\n",
       "      <th>4</th>\n",
       "      <td>-13.146631</td>\n",
       "      <td>4.835322</td>\n",
       "      <td>0</td>\n",
       "    </tr>\n",
       "    <tr>\n",
       "      <th>...</th>\n",
       "      <td>...</td>\n",
       "      <td>...</td>\n",
       "      <td>...</td>\n",
       "    </tr>\n",
       "    <tr>\n",
       "      <th>4995</th>\n",
       "      <td>6.852668</td>\n",
       "      <td>1.549076</td>\n",
       "      <td>3</td>\n",
       "    </tr>\n",
       "    <tr>\n",
       "      <th>4996</th>\n",
       "      <td>-2.340729</td>\n",
       "      <td>-7.343469</td>\n",
       "      <td>1</td>\n",
       "    </tr>\n",
       "    <tr>\n",
       "      <th>4997</th>\n",
       "      <td>12.925503</td>\n",
       "      <td>-0.103197</td>\n",
       "      <td>2</td>\n",
       "    </tr>\n",
       "    <tr>\n",
       "      <th>4998</th>\n",
       "      <td>-34.336778</td>\n",
       "      <td>4.405753</td>\n",
       "      <td>0</td>\n",
       "    </tr>\n",
       "    <tr>\n",
       "      <th>4999</th>\n",
       "      <td>-26.812739</td>\n",
       "      <td>-1.639956</td>\n",
       "      <td>2</td>\n",
       "    </tr>\n",
       "  </tbody>\n",
       "</table>\n",
       "<p>5000 rows × 3 columns</p>\n",
       "</div>"
      ],
      "text/plain": [
       "              x         y  label\n",
       "0    -11.969996 -8.039628      1\n",
       "1    -26.961416 -6.962109      1\n",
       "2    -12.915849 -1.378941      2\n",
       "3     22.476144  2.066612      3\n",
       "4    -13.146631  4.835322      0\n",
       "...         ...       ...    ...\n",
       "4995   6.852668  1.549076      3\n",
       "4996  -2.340729 -7.343469      1\n",
       "4997  12.925503 -0.103197      2\n",
       "4998 -34.336778  4.405753      0\n",
       "4999 -26.812739 -1.639956      2\n",
       "\n",
       "[5000 rows x 3 columns]"
      ]
     },
     "execution_count": 184,
     "metadata": {},
     "output_type": "execute_result"
    }
   ],
   "source": [
    "df"
   ]
  },
  {
   "cell_type": "code",
   "execution_count": 185,
   "metadata": {},
   "outputs": [
    {
     "data": {
      "image/png": "[encoded data removed]",
      "text/plain": [
       "<Figure size 432x288 with 1 Axes>"
      ]
     },
     "metadata": {
      "needs_background": "light"
     },
     "output_type": "display_data"
    }
   ],
   "source": [
    "u_labels=np.unique(df['label']) #allocat label to different clusters\n",
    "for i in u_labels:\n",
    "    row=np.where(df.label==i)\n",
    "    plt.scatter(df.iloc[row]['x'],df.iloc[row]['y'],label=i)\n",
    "plt.scatter(clusters[:,0] , clusters[:,1] , s = 80, color = 'k')\n",
    "plt.legend()\n",
    "plt.show()"
   ]
  },
  {
   "cell_type": "markdown",
   "metadata": {},
   "source": [
    "Points are clustered into a right way. Using Mahalanobis Distance allows a different way to calculate similarity between points. "
   ]
  },
  {
   "cell_type": "markdown",
   "metadata": {},
   "source": [
    "### Q2 b)"
   ]
  },
  {
   "cell_type": "code",
   "execution_count": 186,
   "metadata": {},
   "outputs": [],
   "source": [
    "import pandas as pd\n",
    "import numpy as np\n",
    "import matplotlib.pyplot as plt\n",
    "from sklearn.decomposition import PCA\n",
    "import sklearn"
   ]
  },
  {
   "cell_type": "code",
   "execution_count": 187,
   "metadata": {},
   "outputs": [
    {
     "data": {
      "text/html": [
       "<div>\n",
       "<style scoped>\n",
       "    .dataframe tbody tr th:only-of-type {\n",
       "        vertical-align: middle;\n",
       "    }\n",
       "\n",
       "    .dataframe tbody tr th {\n",
       "        vertical-align: top;\n",
       "    }\n",
       "\n",
       "    .dataframe thead th {\n",
       "        text-align: right;\n",
       "    }\n",
       "</style>\n",
       "<table border=\"1\" class=\"dataframe\">\n",
       "  <thead>\n",
       "    <tr style=\"text-align: right;\">\n",
       "      <th></th>\n",
       "      <th>x</th>\n",
       "      <th>y</th>\n",
       "      <th>label</th>\n",
       "    </tr>\n",
       "  </thead>\n",
       "  <tbody>\n",
       "    <tr>\n",
       "      <th>0</th>\n",
       "      <td>-11.969996</td>\n",
       "      <td>-8.039628</td>\n",
       "      <td>1</td>\n",
       "    </tr>\n",
       "    <tr>\n",
       "      <th>1</th>\n",
       "      <td>-26.961416</td>\n",
       "      <td>-6.962109</td>\n",
       "      <td>1</td>\n",
       "    </tr>\n",
       "    <tr>\n",
       "      <th>2</th>\n",
       "      <td>-12.915849</td>\n",
       "      <td>-1.378941</td>\n",
       "      <td>2</td>\n",
       "    </tr>\n",
       "    <tr>\n",
       "      <th>3</th>\n",
       "      <td>22.476144</td>\n",
       "      <td>2.066612</td>\n",
       "      <td>3</td>\n",
       "    </tr>\n",
       "    <tr>\n",
       "      <th>4</th>\n",
       "      <td>-13.146631</td>\n",
       "      <td>4.835322</td>\n",
       "      <td>0</td>\n",
       "    </tr>\n",
       "  </tbody>\n",
       "</table>\n",
       "</div>"
      ],
      "text/plain": [
       "           x         y  label\n",
       "0 -11.969996 -8.039628      1\n",
       "1 -26.961416 -6.962109      1\n",
       "2 -12.915849 -1.378941      2\n",
       "3  22.476144  2.066612      3\n",
       "4 -13.146631  4.835322      0"
      ]
     },
     "execution_count": 187,
     "metadata": {},
     "output_type": "execute_result"
    }
   ],
   "source": [
    "data_q2=df\n",
    "data_q2.head()"
   ]
  },
  {
   "cell_type": "code",
   "execution_count": 188,
   "metadata": {},
   "outputs": [],
   "source": [
    "target=data_q2['label']"
   ]
  },
  {
   "cell_type": "code",
   "execution_count": 189,
   "metadata": {},
   "outputs": [],
   "source": [
    "data=data_q2.loc[:,['x','y']]"
   ]
  },
  {
   "cell_type": "code",
   "execution_count": 190,
   "metadata": {},
   "outputs": [
    {
     "data": {
      "text/html": [
       "<div>\n",
       "<style scoped>\n",
       "    .dataframe tbody tr th:only-of-type {\n",
       "        vertical-align: middle;\n",
       "    }\n",
       "\n",
       "    .dataframe tbody tr th {\n",
       "        vertical-align: top;\n",
       "    }\n",
       "\n",
       "    .dataframe thead th {\n",
       "        text-align: right;\n",
       "    }\n",
       "</style>\n",
       "<table border=\"1\" class=\"dataframe\">\n",
       "  <thead>\n",
       "    <tr style=\"text-align: right;\">\n",
       "      <th></th>\n",
       "      <th>x</th>\n",
       "      <th>y</th>\n",
       "    </tr>\n",
       "  </thead>\n",
       "  <tbody>\n",
       "    <tr>\n",
       "      <th>0</th>\n",
       "      <td>-11.969996</td>\n",
       "      <td>-8.039628</td>\n",
       "    </tr>\n",
       "    <tr>\n",
       "      <th>1</th>\n",
       "      <td>-26.961416</td>\n",
       "      <td>-6.962109</td>\n",
       "    </tr>\n",
       "    <tr>\n",
       "      <th>2</th>\n",
       "      <td>-12.915849</td>\n",
       "      <td>-1.378941</td>\n",
       "    </tr>\n",
       "    <tr>\n",
       "      <th>3</th>\n",
       "      <td>22.476144</td>\n",
       "      <td>2.066612</td>\n",
       "    </tr>\n",
       "    <tr>\n",
       "      <th>4</th>\n",
       "      <td>-13.146631</td>\n",
       "      <td>4.835322</td>\n",
       "    </tr>\n",
       "    <tr>\n",
       "      <th>...</th>\n",
       "      <td>...</td>\n",
       "      <td>...</td>\n",
       "    </tr>\n",
       "    <tr>\n",
       "      <th>4995</th>\n",
       "      <td>6.852668</td>\n",
       "      <td>1.549076</td>\n",
       "    </tr>\n",
       "    <tr>\n",
       "      <th>4996</th>\n",
       "      <td>-2.340729</td>\n",
       "      <td>-7.343469</td>\n",
       "    </tr>\n",
       "    <tr>\n",
       "      <th>4997</th>\n",
       "      <td>12.925503</td>\n",
       "      <td>-0.103197</td>\n",
       "    </tr>\n",
       "    <tr>\n",
       "      <th>4998</th>\n",
       "      <td>-34.336778</td>\n",
       "      <td>4.405753</td>\n",
       "    </tr>\n",
       "    <tr>\n",
       "      <th>4999</th>\n",
       "      <td>-26.812739</td>\n",
       "      <td>-1.639956</td>\n",
       "    </tr>\n",
       "  </tbody>\n",
       "</table>\n",
       "<p>5000 rows × 2 columns</p>\n",
       "</div>"
      ],
      "text/plain": [
       "              x         y\n",
       "0    -11.969996 -8.039628\n",
       "1    -26.961416 -6.962109\n",
       "2    -12.915849 -1.378941\n",
       "3     22.476144  2.066612\n",
       "4    -13.146631  4.835322\n",
       "...         ...       ...\n",
       "4995   6.852668  1.549076\n",
       "4996  -2.340729 -7.343469\n",
       "4997  12.925503 -0.103197\n",
       "4998 -34.336778  4.405753\n",
       "4999 -26.812739 -1.639956\n",
       "\n",
       "[5000 rows x 2 columns]"
      ]
     },
     "execution_count": 190,
     "metadata": {},
     "output_type": "execute_result"
    }
   ],
   "source": [
    "data"
   ]
  },
  {
   "cell_type": "code",
   "execution_count": 191,
   "metadata": {},
   "outputs": [
    {
     "name": "stdout",
     "output_type": "stream",
     "text": [
      "StandardScaler()\n"
     ]
    }
   ],
   "source": [
    "from sklearn.preprocessing import StandardScaler\n",
    "scaler = StandardScaler()\n",
    "print(scaler.fit(data))\n"
   ]
  },
  {
   "cell_type": "code",
   "execution_count": 192,
   "metadata": {},
   "outputs": [
    {
     "name": "stdout",
     "output_type": "stream",
     "text": [
      "[-1.22012285 -1.00360882]\n"
     ]
    }
   ],
   "source": [
    "print(scaler.mean_)"
   ]
  },
  {
   "cell_type": "code",
   "execution_count": 193,
   "metadata": {},
   "outputs": [],
   "source": [
    "data_z_score=scaler.transform(data)"
   ]
  },
  {
   "cell_type": "code",
   "execution_count": 194,
   "metadata": {},
   "outputs": [
    {
     "name": "stdout",
     "output_type": "stream",
     "text": [
      "[[-0.59957277 -1.64159106]\n",
      " [-1.43571729 -1.39019249]\n",
      " [-0.65232761 -0.08756979]\n",
      " ...\n",
      " [ 0.78897044  0.21007735]\n",
      " [-1.84707718  1.26207159]\n",
      " [-1.42742483 -0.14846773]]\n"
     ]
    }
   ],
   "source": [
    "print(data_z_score)"
   ]
  },
  {
   "cell_type": "markdown",
   "metadata": {},
   "source": [
    "#### PCA"
   ]
  },
  {
   "cell_type": "code",
   "execution_count": 195,
   "metadata": {},
   "outputs": [
    {
     "name": "stdout",
     "output_type": "stream",
     "text": [
      "[[-0.70710678  0.70710678]\n",
      " [-0.70710678 -0.70710678]]\n",
      "[1.22552735 0.77487273]\n",
      "[[-0.7368182   1.58474214]\n",
      " [ 0.03219089  1.99821997]\n",
      " [ 0.39934408  0.52318647]\n",
      " ...\n",
      " [-0.40933923 -0.70643346]\n",
      " [ 2.19850018  0.41366142]\n",
      " [ 0.90435924  1.11432431]]\n"
     ]
    }
   ],
   "source": [
    "from sklearn.decomposition import PCA\n",
    "# Two components of PCA\n",
    "pca = PCA(2)\n",
    "\n",
    "# Fit on data\n",
    "pca.fit(data_z_score)\n",
    "\n",
    "# Access values and vectors\n",
    "print(pca.components_)\n",
    "print(pca.explained_variance_)\n",
    "\n",
    "# transform data\n",
    "B = pca.transform(data_z_score)\n",
    "print(B)"
   ]
  },
  {
   "cell_type": "code",
   "execution_count": 196,
   "metadata": {},
   "outputs": [
    {
     "data": {
      "text/plain": [
       "(5000, 2)"
      ]
     },
     "execution_count": 196,
     "metadata": {},
     "output_type": "execute_result"
    }
   ],
   "source": [
    "B.shape"
   ]
  },
  {
   "cell_type": "code",
   "execution_count": 197,
   "metadata": {},
   "outputs": [
    {
     "data": {
      "image/png": "[encoded data removed]",
      "text/plain": [
       "<Figure size 432x288 with 1 Axes>"
      ]
     },
     "metadata": {
      "needs_background": "light"
     },
     "output_type": "display_data"
    }
   ],
   "source": [
    "import matplotlib.pyplot as plt\n",
    "import matplotlib\n",
    "colors=['red','green','blue','yellow','grey']\n",
    "scatter=plt.scatter(B[:, 0], B[:, 1],c=target,\\\n",
    "                    cmap=matplotlib.colors.ListedColormap(colors),marker='o')\n",
    "plt.legend(*scatter.legend_elements())\n",
    "plt.show()"
   ]
  },
  {
   "cell_type": "markdown",
   "metadata": {},
   "source": [
    "### if not Z-score scalar"
   ]
  },
  {
   "cell_type": "code",
   "execution_count": 198,
   "metadata": {},
   "outputs": [
    {
     "data": {
      "text/html": [
       "<div>\n",
       "<style scoped>\n",
       "    .dataframe tbody tr th:only-of-type {\n",
       "        vertical-align: middle;\n",
       "    }\n",
       "\n",
       "    .dataframe tbody tr th {\n",
       "        vertical-align: top;\n",
       "    }\n",
       "\n",
       "    .dataframe thead th {\n",
       "        text-align: right;\n",
       "    }\n",
       "</style>\n",
       "<table border=\"1\" class=\"dataframe\">\n",
       "  <thead>\n",
       "    <tr style=\"text-align: right;\">\n",
       "      <th></th>\n",
       "      <th>x</th>\n",
       "      <th>y</th>\n",
       "    </tr>\n",
       "  </thead>\n",
       "  <tbody>\n",
       "    <tr>\n",
       "      <th>0</th>\n",
       "      <td>-11.969996</td>\n",
       "      <td>-8.039628</td>\n",
       "    </tr>\n",
       "    <tr>\n",
       "      <th>1</th>\n",
       "      <td>-26.961416</td>\n",
       "      <td>-6.962109</td>\n",
       "    </tr>\n",
       "    <tr>\n",
       "      <th>2</th>\n",
       "      <td>-12.915849</td>\n",
       "      <td>-1.378941</td>\n",
       "    </tr>\n",
       "    <tr>\n",
       "      <th>3</th>\n",
       "      <td>22.476144</td>\n",
       "      <td>2.066612</td>\n",
       "    </tr>\n",
       "    <tr>\n",
       "      <th>4</th>\n",
       "      <td>-13.146631</td>\n",
       "      <td>4.835322</td>\n",
       "    </tr>\n",
       "    <tr>\n",
       "      <th>...</th>\n",
       "      <td>...</td>\n",
       "      <td>...</td>\n",
       "    </tr>\n",
       "    <tr>\n",
       "      <th>4995</th>\n",
       "      <td>6.852668</td>\n",
       "      <td>1.549076</td>\n",
       "    </tr>\n",
       "    <tr>\n",
       "      <th>4996</th>\n",
       "      <td>-2.340729</td>\n",
       "      <td>-7.343469</td>\n",
       "    </tr>\n",
       "    <tr>\n",
       "      <th>4997</th>\n",
       "      <td>12.925503</td>\n",
       "      <td>-0.103197</td>\n",
       "    </tr>\n",
       "    <tr>\n",
       "      <th>4998</th>\n",
       "      <td>-34.336778</td>\n",
       "      <td>4.405753</td>\n",
       "    </tr>\n",
       "    <tr>\n",
       "      <th>4999</th>\n",
       "      <td>-26.812739</td>\n",
       "      <td>-1.639956</td>\n",
       "    </tr>\n",
       "  </tbody>\n",
       "</table>\n",
       "<p>5000 rows × 2 columns</p>\n",
       "</div>"
      ],
      "text/plain": [
       "              x         y\n",
       "0    -11.969996 -8.039628\n",
       "1    -26.961416 -6.962109\n",
       "2    -12.915849 -1.378941\n",
       "3     22.476144  2.066612\n",
       "4    -13.146631  4.835322\n",
       "...         ...       ...\n",
       "4995   6.852668  1.549076\n",
       "4996  -2.340729 -7.343469\n",
       "4997  12.925503 -0.103197\n",
       "4998 -34.336778  4.405753\n",
       "4999 -26.812739 -1.639956\n",
       "\n",
       "[5000 rows x 2 columns]"
      ]
     },
     "execution_count": 198,
     "metadata": {},
     "output_type": "execute_result"
    }
   ],
   "source": [
    "data"
   ]
  },
  {
   "cell_type": "code",
   "execution_count": 199,
   "metadata": {},
   "outputs": [
    {
     "name": "stdout",
     "output_type": "stream",
     "text": [
      "[[-0.99838317  0.05684225]\n",
      " [-0.05684225 -0.99838317]]\n",
      "[322.50713273  17.38845582]\n",
      "[[ 10.33254906   7.6356903 ]\n",
      " [ 25.36097916   7.41205973]\n",
      " [ 11.65548133   1.03953719]\n",
      " ...\n",
      " [-14.07157308  -1.70302537]\n",
      " [ 33.3705919   -3.51819072]\n",
      " [ 25.51506544   2.09006015]]\n"
     ]
    }
   ],
   "source": [
    "from sklearn.decomposition import PCA\n",
    "# Two components of PCA\n",
    "pca = PCA(2)\n",
    "\n",
    "# Fit on data\n",
    "pca.fit(data)\n",
    "\n",
    "# Access values and vectors\n",
    "print(pca.components_)\n",
    "print(pca.explained_variance_)\n",
    "\n",
    "# transform data\n",
    "B = pca.transform(data)\n",
    "print(B)"
   ]
  },
  {
   "cell_type": "code",
   "execution_count": 200,
   "metadata": {},
   "outputs": [
    {
     "data": {
      "image/png": "[encoded data removed]",
      "text/plain": [
       "<Figure size 432x288 with 1 Axes>"
      ]
     },
     "metadata": {
      "needs_background": "light"
     },
     "output_type": "display_data"
    }
   ],
   "source": [
    "import matplotlib.pyplot as plt\n",
    "import matplotlib\n",
    "colors=['red','green','blue','yellow','grey']\n",
    "scatter=plt.scatter(B[:, 0], B[:, 1],c=target,\\\n",
    "                    cmap=matplotlib.colors.ListedColormap(colors),marker='o')\n",
    "plt.legend(*scatter.legend_elements())\n",
    "plt.show()"
   ]
  },
  {
   "cell_type": "markdown",
   "metadata": {},
   "source": [
    "### Q2 c)"
   ]
  },
  {
   "cell_type": "code",
   "execution_count": 201,
   "metadata": {},
   "outputs": [
    {
     "data": {
      "text/html": [
       "<div>\n",
       "<style scoped>\n",
       "    .dataframe tbody tr th:only-of-type {\n",
       "        vertical-align: middle;\n",
       "    }\n",
       "\n",
       "    .dataframe tbody tr th {\n",
       "        vertical-align: top;\n",
       "    }\n",
       "\n",
       "    .dataframe thead th {\n",
       "        text-align: right;\n",
       "    }\n",
       "</style>\n",
       "<table border=\"1\" class=\"dataframe\">\n",
       "  <thead>\n",
       "    <tr style=\"text-align: right;\">\n",
       "      <th></th>\n",
       "      <th>x</th>\n",
       "      <th>y</th>\n",
       "      <th>label</th>\n",
       "    </tr>\n",
       "  </thead>\n",
       "  <tbody>\n",
       "    <tr>\n",
       "      <th>0</th>\n",
       "      <td>-11.969996</td>\n",
       "      <td>-8.039628</td>\n",
       "      <td>1</td>\n",
       "    </tr>\n",
       "    <tr>\n",
       "      <th>1</th>\n",
       "      <td>-26.961416</td>\n",
       "      <td>-6.962109</td>\n",
       "      <td>1</td>\n",
       "    </tr>\n",
       "    <tr>\n",
       "      <th>2</th>\n",
       "      <td>-12.915849</td>\n",
       "      <td>-1.378941</td>\n",
       "      <td>2</td>\n",
       "    </tr>\n",
       "    <tr>\n",
       "      <th>3</th>\n",
       "      <td>22.476144</td>\n",
       "      <td>2.066612</td>\n",
       "      <td>3</td>\n",
       "    </tr>\n",
       "    <tr>\n",
       "      <th>4</th>\n",
       "      <td>-13.146631</td>\n",
       "      <td>4.835322</td>\n",
       "      <td>0</td>\n",
       "    </tr>\n",
       "    <tr>\n",
       "      <th>...</th>\n",
       "      <td>...</td>\n",
       "      <td>...</td>\n",
       "      <td>...</td>\n",
       "    </tr>\n",
       "    <tr>\n",
       "      <th>4995</th>\n",
       "      <td>6.852668</td>\n",
       "      <td>1.549076</td>\n",
       "      <td>3</td>\n",
       "    </tr>\n",
       "    <tr>\n",
       "      <th>4996</th>\n",
       "      <td>-2.340729</td>\n",
       "      <td>-7.343469</td>\n",
       "      <td>1</td>\n",
       "    </tr>\n",
       "    <tr>\n",
       "      <th>4997</th>\n",
       "      <td>12.925503</td>\n",
       "      <td>-0.103197</td>\n",
       "      <td>2</td>\n",
       "    </tr>\n",
       "    <tr>\n",
       "      <th>4998</th>\n",
       "      <td>-34.336778</td>\n",
       "      <td>4.405753</td>\n",
       "      <td>0</td>\n",
       "    </tr>\n",
       "    <tr>\n",
       "      <th>4999</th>\n",
       "      <td>-26.812739</td>\n",
       "      <td>-1.639956</td>\n",
       "      <td>2</td>\n",
       "    </tr>\n",
       "  </tbody>\n",
       "</table>\n",
       "<p>5000 rows × 3 columns</p>\n",
       "</div>"
      ],
      "text/plain": [
       "              x         y  label\n",
       "0    -11.969996 -8.039628      1\n",
       "1    -26.961416 -6.962109      1\n",
       "2    -12.915849 -1.378941      2\n",
       "3     22.476144  2.066612      3\n",
       "4    -13.146631  4.835322      0\n",
       "...         ...       ...    ...\n",
       "4995   6.852668  1.549076      3\n",
       "4996  -2.340729 -7.343469      1\n",
       "4997  12.925503 -0.103197      2\n",
       "4998 -34.336778  4.405753      0\n",
       "4999 -26.812739 -1.639956      2\n",
       "\n",
       "[5000 rows x 3 columns]"
      ]
     },
     "execution_count": 201,
     "metadata": {},
     "output_type": "execute_result"
    }
   ],
   "source": [
    "data_q2"
   ]
  },
  {
   "cell_type": "code",
   "execution_count": 202,
   "metadata": {},
   "outputs": [],
   "source": [
    "cluster_0=data_q2[data_q2['label'] == 0]\n",
    "cluster_1=data_q2[data_q2['label'] == 1]\n",
    "cluster_2=data_q2[data_q2['label'] == 2]\n",
    "cluster_3=data_q2[data_q2['label'] == 3]\n",
    "cluster_4=data_q2[data_q2['label'] == 4]"
   ]
  },
  {
   "cell_type": "code",
   "execution_count": 203,
   "metadata": {},
   "outputs": [
    {
     "data": {
      "text/html": [
       "<div>\n",
       "<style scoped>\n",
       "    .dataframe tbody tr th:only-of-type {\n",
       "        vertical-align: middle;\n",
       "    }\n",
       "\n",
       "    .dataframe tbody tr th {\n",
       "        vertical-align: top;\n",
       "    }\n",
       "\n",
       "    .dataframe thead th {\n",
       "        text-align: right;\n",
       "    }\n",
       "</style>\n",
       "<table border=\"1\" class=\"dataframe\">\n",
       "  <thead>\n",
       "    <tr style=\"text-align: right;\">\n",
       "      <th></th>\n",
       "      <th>x</th>\n",
       "      <th>y</th>\n",
       "      <th>label</th>\n",
       "    </tr>\n",
       "  </thead>\n",
       "  <tbody>\n",
       "    <tr>\n",
       "      <th>4</th>\n",
       "      <td>-13.146631</td>\n",
       "      <td>4.835322</td>\n",
       "      <td>0</td>\n",
       "    </tr>\n",
       "    <tr>\n",
       "      <th>12</th>\n",
       "      <td>-38.508282</td>\n",
       "      <td>4.112202</td>\n",
       "      <td>0</td>\n",
       "    </tr>\n",
       "    <tr>\n",
       "      <th>19</th>\n",
       "      <td>6.843345</td>\n",
       "      <td>4.550918</td>\n",
       "      <td>0</td>\n",
       "    </tr>\n",
       "    <tr>\n",
       "      <th>22</th>\n",
       "      <td>-36.768240</td>\n",
       "      <td>4.173526</td>\n",
       "      <td>0</td>\n",
       "    </tr>\n",
       "    <tr>\n",
       "      <th>25</th>\n",
       "      <td>-16.883207</td>\n",
       "      <td>4.664295</td>\n",
       "      <td>0</td>\n",
       "    </tr>\n",
       "    <tr>\n",
       "      <th>...</th>\n",
       "      <td>...</td>\n",
       "      <td>...</td>\n",
       "      <td>...</td>\n",
       "    </tr>\n",
       "    <tr>\n",
       "      <th>4985</th>\n",
       "      <td>-41.441343</td>\n",
       "      <td>5.164262</td>\n",
       "      <td>0</td>\n",
       "    </tr>\n",
       "    <tr>\n",
       "      <th>4987</th>\n",
       "      <td>-39.028493</td>\n",
       "      <td>5.153460</td>\n",
       "      <td>0</td>\n",
       "    </tr>\n",
       "    <tr>\n",
       "      <th>4991</th>\n",
       "      <td>-14.425117</td>\n",
       "      <td>5.286585</td>\n",
       "      <td>0</td>\n",
       "    </tr>\n",
       "    <tr>\n",
       "      <th>4994</th>\n",
       "      <td>-11.915634</td>\n",
       "      <td>5.320493</td>\n",
       "      <td>0</td>\n",
       "    </tr>\n",
       "    <tr>\n",
       "      <th>4998</th>\n",
       "      <td>-34.336778</td>\n",
       "      <td>4.405753</td>\n",
       "      <td>0</td>\n",
       "    </tr>\n",
       "  </tbody>\n",
       "</table>\n",
       "<p>1000 rows × 3 columns</p>\n",
       "</div>"
      ],
      "text/plain": [
       "              x         y  label\n",
       "4    -13.146631  4.835322      0\n",
       "12   -38.508282  4.112202      0\n",
       "19     6.843345  4.550918      0\n",
       "22   -36.768240  4.173526      0\n",
       "25   -16.883207  4.664295      0\n",
       "...         ...       ...    ...\n",
       "4985 -41.441343  5.164262      0\n",
       "4987 -39.028493  5.153460      0\n",
       "4991 -14.425117  5.286585      0\n",
       "4994 -11.915634  5.320493      0\n",
       "4998 -34.336778  4.405753      0\n",
       "\n",
       "[1000 rows x 3 columns]"
      ]
     },
     "execution_count": 203,
     "metadata": {},
     "output_type": "execute_result"
    }
   ],
   "source": [
    "cluster_0"
   ]
  },
  {
   "cell_type": "code",
   "execution_count": 206,
   "metadata": {},
   "outputs": [],
   "source": [
    "cluster_0=cluster_0.iloc[:,:2]\n",
    "cluster_1=cluster_1.iloc[:,:2]\n",
    "cluster_2=cluster_2.iloc[:,:2]\n",
    "cluster_3=cluster_3.iloc[:,:2]\n",
    "cluster_4=cluster_4.iloc[:,:2]"
   ]
  },
  {
   "cell_type": "code",
   "execution_count": 209,
   "metadata": {},
   "outputs": [],
   "source": [
    "def pca_onto_cluster(x):\n",
    "#     scaler = StandardScaler()\n",
    "#     scaler.fit(data)\n",
    "#     data_z_score=scaler.transform(data)\n",
    "    # Two components of PCA\n",
    "    pca = PCA(2)\n",
    "\n",
    "    # Fit on data\n",
    "    pca.fit(x)\n",
    "\n",
    "    # Access values and vectors\n",
    "    # transform data\n",
    "    B = pca.transform(x)\n",
    "    return B"
   ]
  },
  {
   "cell_type": "code",
   "execution_count": 210,
   "metadata": {},
   "outputs": [
    {
     "data": {
      "text/plain": [
       "array([[  7.25405752,   0.25378307],\n",
       "       [-18.11417956,   0.68829451],\n",
       "       [ 27.23950349,   0.76561297],\n",
       "       ...,\n",
       "       [  5.98078814,  -0.21199726],\n",
       "       [  8.49049436,  -0.21735037],\n",
       "       [-13.9396063 ,   0.44222502]])"
      ]
     },
     "execution_count": 210,
     "metadata": {},
     "output_type": "execute_result"
    }
   ],
   "source": [
    "res0=pca_onto_cluster(cluster_0)\n",
    "res0"
   ]
  },
  {
   "cell_type": "code",
   "execution_count": 211,
   "metadata": {},
   "outputs": [
    {
     "data": {
      "text/plain": [
       "array([[ -8.73419248,   0.91529791],\n",
       "       [-23.71132555,  -0.34533961],\n",
       "       [  1.94266087,  -0.75298475],\n",
       "       ...,\n",
       "       [  6.37240317,   0.70787872],\n",
       "       [-15.07539706,  -0.44106933],\n",
       "       [  0.90286284,   0.33686259]])"
      ]
     },
     "execution_count": 211,
     "metadata": {},
     "output_type": "execute_result"
    }
   ],
   "source": [
    "res1=pca_onto_cluster(cluster_1)\n",
    "res1"
   ]
  },
  {
   "cell_type": "code",
   "execution_count": 212,
   "metadata": {},
   "outputs": [
    {
     "data": {
      "text/plain": [
       "array([[-11.81898073,  -0.22222287],\n",
       "       [ -7.96831058,  -0.07484901],\n",
       "       [-21.787302  ,   0.26996112],\n",
       "       ...,\n",
       "       [-15.0302669 ,  -0.59978662],\n",
       "       [ 14.03719841,   0.70566602],\n",
       "       [-25.71812447,  -0.29620696]])"
      ]
     },
     "execution_count": 212,
     "metadata": {},
     "output_type": "execute_result"
    }
   ],
   "source": [
    "res2=pca_onto_cluster(cluster_2)\n",
    "res2"
   ]
  },
  {
   "cell_type": "code",
   "execution_count": 213,
   "metadata": {},
   "outputs": [
    {
     "data": {
      "text/plain": [
       "array([[ 12.50154109,  -0.080114  ],\n",
       "       [ 26.88083768,   0.15701845],\n",
       "       [-12.34056372,  -0.61900941],\n",
       "       ...,\n",
       "       [ 28.29556699,  -0.14442832],\n",
       "       [ -8.76609494,   0.96638809],\n",
       "       [ -3.12687729,  -0.41684377]])"
      ]
     },
     "execution_count": 213,
     "metadata": {},
     "output_type": "execute_result"
    }
   ],
   "source": [
    "res3=pca_onto_cluster(cluster_3)\n",
    "res3"
   ]
  },
  {
   "cell_type": "code",
   "execution_count": 214,
   "metadata": {},
   "outputs": [
    {
     "data": {
      "text/plain": [
       "array([[25.99078891, -0.97033838],\n",
       "       [58.70744189, -0.41801869],\n",
       "       [ 8.42336008, -0.14735909],\n",
       "       ...,\n",
       "       [-1.4299455 , -0.83051362],\n",
       "       [24.30622751, -0.48802078],\n",
       "       [ 0.58512901, -0.68303187]])"
      ]
     },
     "execution_count": 214,
     "metadata": {},
     "output_type": "execute_result"
    }
   ],
   "source": [
    "res4=pca_onto_cluster(cluster_4)\n",
    "res4"
   ]
  },
  {
   "cell_type": "code",
   "execution_count": 215,
   "metadata": {},
   "outputs": [],
   "source": [
    "res=list()\n",
    "res.append(res0)\n",
    "res.append(res1)\n",
    "res.append(res2)\n",
    "res.append(res3)\n",
    "res.append(res4)"
   ]
  },
  {
   "cell_type": "code",
   "execution_count": 218,
   "metadata": {},
   "outputs": [
    {
     "data": {
      "text/plain": [
       "[array([[  7.25405752,   0.25378307],\n",
       "        [-18.11417956,   0.68829451],\n",
       "        [ 27.23950349,   0.76561297],\n",
       "        ...,\n",
       "        [  5.98078814,  -0.21199726],\n",
       "        [  8.49049436,  -0.21735037],\n",
       "        [-13.9396063 ,   0.44222502]]),\n",
       " array([[ -8.73419248,   0.91529791],\n",
       "        [-23.71132555,  -0.34533961],\n",
       "        [  1.94266087,  -0.75298475],\n",
       "        ...,\n",
       "        [  6.37240317,   0.70787872],\n",
       "        [-15.07539706,  -0.44106933],\n",
       "        [  0.90286284,   0.33686259]]),\n",
       " array([[-11.81898073,  -0.22222287],\n",
       "        [ -7.96831058,  -0.07484901],\n",
       "        [-21.787302  ,   0.26996112],\n",
       "        ...,\n",
       "        [-15.0302669 ,  -0.59978662],\n",
       "        [ 14.03719841,   0.70566602],\n",
       "        [-25.71812447,  -0.29620696]]),\n",
       " array([[ 12.50154109,  -0.080114  ],\n",
       "        [ 26.88083768,   0.15701845],\n",
       "        [-12.34056372,  -0.61900941],\n",
       "        ...,\n",
       "        [ 28.29556699,  -0.14442832],\n",
       "        [ -8.76609494,   0.96638809],\n",
       "        [ -3.12687729,  -0.41684377]]),\n",
       " array([[25.99078891, -0.97033838],\n",
       "        [58.70744189, -0.41801869],\n",
       "        [ 8.42336008, -0.14735909],\n",
       "        ...,\n",
       "        [-1.4299455 , -0.83051362],\n",
       "        [24.30622751, -0.48802078],\n",
       "        [ 0.58512901, -0.68303187]])]"
      ]
     },
     "execution_count": 218,
     "metadata": {},
     "output_type": "execute_result"
    }
   ],
   "source": [
    "res"
   ]
  },
  {
   "cell_type": "code",
   "execution_count": 219,
   "metadata": {},
   "outputs": [
    {
     "data": {
      "text/plain": [
       "array([[  7.25405752,   0.25378307],\n",
       "       [-18.11417956,   0.68829451],\n",
       "       [ 27.23950349,   0.76561297],\n",
       "       ...,\n",
       "       [  5.98078814,  -0.21199726],\n",
       "       [  8.49049436,  -0.21735037],\n",
       "       [-13.9396063 ,   0.44222502]])"
      ]
     },
     "execution_count": 219,
     "metadata": {},
     "output_type": "execute_result"
    }
   ],
   "source": [
    "res[0]"
   ]
  },
  {
   "cell_type": "code",
   "execution_count": 220,
   "metadata": {},
   "outputs": [
    {
     "data": {
      "text/plain": [
       "array([[ -8.73419248,   0.91529791],\n",
       "       [-23.71132555,  -0.34533961],\n",
       "       [  1.94266087,  -0.75298475],\n",
       "       ...,\n",
       "       [  6.37240317,   0.70787872],\n",
       "       [-15.07539706,  -0.44106933],\n",
       "       [  0.90286284,   0.33686259]])"
      ]
     },
     "execution_count": 220,
     "metadata": {},
     "output_type": "execute_result"
    }
   ],
   "source": [
    "res[1]"
   ]
  },
  {
   "cell_type": "code",
   "execution_count": 221,
   "metadata": {},
   "outputs": [
    {
     "data": {
      "image/png": "[encoded data removed]",
      "text/plain": [
       "<Figure size 432x288 with 1 Axes>"
      ]
     },
     "metadata": {
      "needs_background": "light"
     },
     "output_type": "display_data"
    }
   ],
   "source": [
    "colors=['red','green','blue','yellow','grey']\n",
    "\n",
    "for i in range(len(res)):\n",
    "    scatter=plt.scatter(res[i][:, 0], res[i][:, 1],c=colors[i],\n",
    "                    cmap=matplotlib.colors.ListedColormap(colors),marker='o')\n",
    "plt.legend(*scatter.legend_elements())\n",
    "plt.show()"
   ]
  },
  {
   "cell_type": "markdown",
   "metadata": {},
   "source": [
    "The result of 2b and 2c are the same. "
   ]
  },
  {
   "cell_type": "markdown",
   "metadata": {},
   "source": [
    "### Q2 d)"
   ]
  },
  {
   "cell_type": "code",
   "execution_count": 223,
   "metadata": {},
   "outputs": [
    {
     "data": {
      "text/plain": [
       "(array([200.031294,   0.281206]),\n",
       " matrix([[ 0.99992166, -0.01251662],\n",
       "         [ 0.01251662,  0.99992166]]))"
      ]
     },
     "execution_count": 223,
     "metadata": {},
     "output_type": "execute_result"
    }
   ],
   "source": [
    "np.linalg.eig(P.T @P )"
   ]
  },
  {
   "cell_type": "code",
   "execution_count": 77,
   "metadata": {},
   "outputs": [
    {
     "data": {
      "text/plain": [
       "matrix([[ 0.03333333, -0.06666667],\n",
       "        [ 1.33333333,  1.33333333]])"
      ]
     },
     "execution_count": 77,
     "metadata": {},
     "output_type": "execute_result"
    }
   ],
   "source": [
    "P.I"
   ]
  },
  {
   "cell_type": "code",
   "execution_count": 222,
   "metadata": {},
   "outputs": [
    {
     "data": {
      "text/plain": [
       "matrix([[200.    ,   2.5   ],\n",
       "        [  2.5   ,   0.3125]])"
      ]
     },
     "execution_count": 222,
     "metadata": {},
     "output_type": "execute_result"
    }
   ],
   "source": [
    "R.I"
   ]
  },
  {
   "cell_type": "code",
   "execution_count": null,
   "metadata": {},
   "outputs": [],
   "source": []
  }
 ],
 "metadata": {
  "kernelspec": {
   "display_name": "Python 3",
   "language": "python",
   "name": "python3"
  },
  "language_info": {
   "codemirror_mode": {
    "name": "ipython",
    "version": 3
   },
   "file_extension": ".py",
   "mimetype": "text/x-python",
   "name": "python",
   "nbconvert_exporter": "python",
   "pygments_lexer": "ipython3",
   "version": "3.8.3"
  }
 },
 "nbformat": 4,
 "nbformat_minor": 4
}
